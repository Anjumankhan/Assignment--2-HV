{
  "nbformat": 4,
  "nbformat_minor": 0,
  "metadata": {
    "colab": {
      "provenance": [],
      "mount_file_id": "10PpIkHiL22xRoYPlnlAKXFEvFkHqYr0l",
      "authorship_tag": "ABX9TyNU50hUVP54WSE66FtGOVdc"
    },
    "kernelspec": {
      "name": "python3",
      "display_name": "Python 3"
    },
    "language_info": {
      "name": "python"
    }
  },
  "cells": [
    {
      "cell_type": "code",
      "execution_count": null,
      "metadata": {
        "id": "BviHXM3twcOH"
      },
      "outputs": [],
      "source": [
        "# import the libraries as shown below\n",
        "\n",
        "from tensorflow.keras.layers import Input, Lambda, Dense, Flatten\n",
        "from tensorflow.keras.models import Model\n",
        "from tensorflow.keras.applications.resnet50 import ResNet50\n",
        "#from keras.applications.vgg16 import VGG16\n",
        "from tensorflow.keras.applications.resnet50 import preprocess_input\n",
        "from tensorflow.keras.preprocessing import image\n",
        "from tensorflow.keras.preprocessing.image import ImageDataGenerator,load_img\n",
        "from tensorflow.keras.models import Sequential\n",
        "import numpy as np\n",
        "from glob import glob\n",
        "import matplotlib.pyplot as plt"
      ]
    },
    {
      "cell_type": "code",
      "source": [],
      "metadata": {
        "id": "eVLSjSAO3hFr"
      },
      "execution_count": null,
      "outputs": []
    },
    {
      "cell_type": "code",
      "source": [
        "from google.colab import drive\n",
        "drive.mount('/content/drive')"
      ],
      "metadata": {
        "id": "De7cjm_P3nCC",
        "colab": {
          "base_uri": "https://localhost:8080/"
        },
        "outputId": "7e8e5ddd-62f8-4178-a72b-94ca923f4090"
      },
      "execution_count": null,
      "outputs": [
        {
          "output_type": "stream",
          "name": "stdout",
          "text": [
            "Drive already mounted at /content/drive; to attempt to forcibly remount, call drive.mount(\"/content/drive\", force_remount=True).\n"
          ]
        }
      ]
    },
    {
      "cell_type": "code",
      "source": [
        "# import the libraries as shown below\n",
        "\n",
        "from tensorflow.keras.layers import Input, Lambda, Dense, Flatten\n",
        "from tensorflow.keras.models import Model\n",
        "from tensorflow.keras.applications.resnet50 import ResNet50\n",
        "#from keras.applications.vgg16 import VGG16\n",
        "from tensorflow.keras.applications.resnet50 import preprocess_input\n",
        "from tensorflow.keras.preprocessing import image\n",
        "from tensorflow.keras.preprocessing.image import ImageDataGenerator,load_img\n",
        "from tensorflow.keras.models import Sequential\n",
        "import numpy as np\n",
        "from glob import glob\n",
        "import matplotlib.pyplot as plt"
      ],
      "metadata": {
        "id": "Nq3kNAvD5V-2"
      },
      "execution_count": null,
      "outputs": []
    },
    {
      "cell_type": "code",
      "source": [
        "# re-size all the images to this\n",
        "IMAGE_SIZE = [224, 224]\n",
        "\n",
        "train_path = '/content/drive/MyDrive/dataset/test '\n",
        "valid_path = '/content/drive/MyDrive/dataset/train'"
      ],
      "metadata": {
        "id": "BMPA0fus5qQk"
      },
      "execution_count": null,
      "outputs": []
    },
    {
      "cell_type": "code",
      "source": [
        "# the dataset train and test has 3 files\n",
        "#nonzomato:(the other delivery boi)\n",
        "#other:(contains dogs,cats,flowers dataset)\n",
        "# zomato:(the zomato delivery)"
      ],
      "metadata": {
        "id": "E57LhrwEUWbR"
      },
      "execution_count": null,
      "outputs": []
    },
    {
      "cell_type": "code",
      "source": [
        "# Import the Vgg 16 library as shown below and add preprocessing layer to the front of VGG\n",
        "# Here we will be using imagenet weights\n",
        "\n",
        "resnet = ResNet50(input_shape=IMAGE_SIZE + [3], weights='imagenet', include_top=False)\n"
      ],
      "metadata": {
        "id": "zJgMKjSU6CjB"
      },
      "execution_count": null,
      "outputs": []
    },
    {
      "cell_type": "code",
      "source": [
        "print(IMAGE_SIZE + [3]) \n",
        "#rgb channel of resnet50"
      ],
      "metadata": {
        "colab": {
          "base_uri": "https://localhost:8080/"
        },
        "id": "6fAfwWkiETT7",
        "outputId": "926d6e4a-8e6a-4f23-bdc7-0269fc852aab"
      },
      "execution_count": null,
      "outputs": [
        {
          "output_type": "stream",
          "name": "stdout",
          "text": [
            "[224, 224, 3]\n"
          ]
        }
      ]
    },
    {
      "cell_type": "code",
      "source": [
        "# don't train existing weights\n",
        "for layer in resnet.layers:\n",
        "    layer.trainable = False"
      ],
      "metadata": {
        "id": "jkQ7lFmb6KCI"
      },
      "execution_count": null,
      "outputs": []
    },
    {
      "cell_type": "code",
      "source": [
        "  # useful for getting number of output classes\n",
        "folders = glob('/content/drive/MyDrive/dataset/train/*')\n",
        "# 3 classes:['nonzomato','other','zomato]"
      ],
      "metadata": {
        "id": "XXz2DEI_6Ol2"
      },
      "execution_count": null,
      "outputs": []
    },
    {
      "cell_type": "code",
      "source": [
        "# our layers - you can add more if you want\n",
        "x = Flatten()(resnet.output)"
      ],
      "metadata": {
        "id": "0WI47wyE6R4z"
      },
      "execution_count": null,
      "outputs": []
    },
    {
      "cell_type": "code",
      "source": [
        "prediction = Dense(len(folders), activation='softmax')(x)\n",
        "#length of folder 3 as we use three outputs\n",
        "\n",
        "# create a model object\n",
        "model = Model(inputs=resnet.input, outputs=prediction)"
      ],
      "metadata": {
        "id": "uZ1W73Ud6Ua9"
      },
      "execution_count": null,
      "outputs": []
    },
    {
      "cell_type": "code",
      "source": [
        "# view the structure of the model\n",
        "#in last we see the layer has 3 outputs\n",
        "model.summary()"
      ],
      "metadata": {
        "colab": {
          "base_uri": "https://localhost:8080/"
        },
        "id": "YZGpuL2b6aUH",
        "outputId": "341149c9-b076-4e6e-bb8b-23d64ae11732"
      },
      "execution_count": null,
      "outputs": [
        {
          "output_type": "stream",
          "name": "stdout",
          "text": [
            "Model: \"model_1\"\n",
            "__________________________________________________________________________________________________\n",
            " Layer (type)                   Output Shape         Param #     Connected to                     \n",
            "==================================================================================================\n",
            " input_1 (InputLayer)           [(None, 224, 224, 3  0           []                               \n",
            "                                )]                                                                \n",
            "                                                                                                  \n",
            " conv1_pad (ZeroPadding2D)      (None, 230, 230, 3)  0           ['input_1[0][0]']                \n",
            "                                                                                                  \n",
            " conv1_conv (Conv2D)            (None, 112, 112, 64  9472        ['conv1_pad[0][0]']              \n",
            "                                )                                                                 \n",
            "                                                                                                  \n",
            " conv1_bn (BatchNormalization)  (None, 112, 112, 64  256         ['conv1_conv[0][0]']             \n",
            "                                )                                                                 \n",
            "                                                                                                  \n",
            " conv1_relu (Activation)        (None, 112, 112, 64  0           ['conv1_bn[0][0]']               \n",
            "                                )                                                                 \n",
            "                                                                                                  \n",
            " pool1_pad (ZeroPadding2D)      (None, 114, 114, 64  0           ['conv1_relu[0][0]']             \n",
            "                                )                                                                 \n",
            "                                                                                                  \n",
            " pool1_pool (MaxPooling2D)      (None, 56, 56, 64)   0           ['pool1_pad[0][0]']              \n",
            "                                                                                                  \n",
            " conv2_block1_1_conv (Conv2D)   (None, 56, 56, 64)   4160        ['pool1_pool[0][0]']             \n",
            "                                                                                                  \n",
            " conv2_block1_1_bn (BatchNormal  (None, 56, 56, 64)  256         ['conv2_block1_1_conv[0][0]']    \n",
            " ization)                                                                                         \n",
            "                                                                                                  \n",
            " conv2_block1_1_relu (Activatio  (None, 56, 56, 64)  0           ['conv2_block1_1_bn[0][0]']      \n",
            " n)                                                                                               \n",
            "                                                                                                  \n",
            " conv2_block1_2_conv (Conv2D)   (None, 56, 56, 64)   36928       ['conv2_block1_1_relu[0][0]']    \n",
            "                                                                                                  \n",
            " conv2_block1_2_bn (BatchNormal  (None, 56, 56, 64)  256         ['conv2_block1_2_conv[0][0]']    \n",
            " ization)                                                                                         \n",
            "                                                                                                  \n",
            " conv2_block1_2_relu (Activatio  (None, 56, 56, 64)  0           ['conv2_block1_2_bn[0][0]']      \n",
            " n)                                                                                               \n",
            "                                                                                                  \n",
            " conv2_block1_0_conv (Conv2D)   (None, 56, 56, 256)  16640       ['pool1_pool[0][0]']             \n",
            "                                                                                                  \n",
            " conv2_block1_3_conv (Conv2D)   (None, 56, 56, 256)  16640       ['conv2_block1_2_relu[0][0]']    \n",
            "                                                                                                  \n",
            " conv2_block1_0_bn (BatchNormal  (None, 56, 56, 256)  1024       ['conv2_block1_0_conv[0][0]']    \n",
            " ization)                                                                                         \n",
            "                                                                                                  \n",
            " conv2_block1_3_bn (BatchNormal  (None, 56, 56, 256)  1024       ['conv2_block1_3_conv[0][0]']    \n",
            " ization)                                                                                         \n",
            "                                                                                                  \n",
            " conv2_block1_add (Add)         (None, 56, 56, 256)  0           ['conv2_block1_0_bn[0][0]',      \n",
            "                                                                  'conv2_block1_3_bn[0][0]']      \n",
            "                                                                                                  \n",
            " conv2_block1_out (Activation)  (None, 56, 56, 256)  0           ['conv2_block1_add[0][0]']       \n",
            "                                                                                                  \n",
            " conv2_block2_1_conv (Conv2D)   (None, 56, 56, 64)   16448       ['conv2_block1_out[0][0]']       \n",
            "                                                                                                  \n",
            " conv2_block2_1_bn (BatchNormal  (None, 56, 56, 64)  256         ['conv2_block2_1_conv[0][0]']    \n",
            " ization)                                                                                         \n",
            "                                                                                                  \n",
            " conv2_block2_1_relu (Activatio  (None, 56, 56, 64)  0           ['conv2_block2_1_bn[0][0]']      \n",
            " n)                                                                                               \n",
            "                                                                                                  \n",
            " conv2_block2_2_conv (Conv2D)   (None, 56, 56, 64)   36928       ['conv2_block2_1_relu[0][0]']    \n",
            "                                                                                                  \n",
            " conv2_block2_2_bn (BatchNormal  (None, 56, 56, 64)  256         ['conv2_block2_2_conv[0][0]']    \n",
            " ization)                                                                                         \n",
            "                                                                                                  \n",
            " conv2_block2_2_relu (Activatio  (None, 56, 56, 64)  0           ['conv2_block2_2_bn[0][0]']      \n",
            " n)                                                                                               \n",
            "                                                                                                  \n",
            " conv2_block2_3_conv (Conv2D)   (None, 56, 56, 256)  16640       ['conv2_block2_2_relu[0][0]']    \n",
            "                                                                                                  \n",
            " conv2_block2_3_bn (BatchNormal  (None, 56, 56, 256)  1024       ['conv2_block2_3_conv[0][0]']    \n",
            " ization)                                                                                         \n",
            "                                                                                                  \n",
            " conv2_block2_add (Add)         (None, 56, 56, 256)  0           ['conv2_block1_out[0][0]',       \n",
            "                                                                  'conv2_block2_3_bn[0][0]']      \n",
            "                                                                                                  \n",
            " conv2_block2_out (Activation)  (None, 56, 56, 256)  0           ['conv2_block2_add[0][0]']       \n",
            "                                                                                                  \n",
            " conv2_block3_1_conv (Conv2D)   (None, 56, 56, 64)   16448       ['conv2_block2_out[0][0]']       \n",
            "                                                                                                  \n",
            " conv2_block3_1_bn (BatchNormal  (None, 56, 56, 64)  256         ['conv2_block3_1_conv[0][0]']    \n",
            " ization)                                                                                         \n",
            "                                                                                                  \n",
            " conv2_block3_1_relu (Activatio  (None, 56, 56, 64)  0           ['conv2_block3_1_bn[0][0]']      \n",
            " n)                                                                                               \n",
            "                                                                                                  \n",
            " conv2_block3_2_conv (Conv2D)   (None, 56, 56, 64)   36928       ['conv2_block3_1_relu[0][0]']    \n",
            "                                                                                                  \n",
            " conv2_block3_2_bn (BatchNormal  (None, 56, 56, 64)  256         ['conv2_block3_2_conv[0][0]']    \n",
            " ization)                                                                                         \n",
            "                                                                                                  \n",
            " conv2_block3_2_relu (Activatio  (None, 56, 56, 64)  0           ['conv2_block3_2_bn[0][0]']      \n",
            " n)                                                                                               \n",
            "                                                                                                  \n",
            " conv2_block3_3_conv (Conv2D)   (None, 56, 56, 256)  16640       ['conv2_block3_2_relu[0][0]']    \n",
            "                                                                                                  \n",
            " conv2_block3_3_bn (BatchNormal  (None, 56, 56, 256)  1024       ['conv2_block3_3_conv[0][0]']    \n",
            " ization)                                                                                         \n",
            "                                                                                                  \n",
            " conv2_block3_add (Add)         (None, 56, 56, 256)  0           ['conv2_block2_out[0][0]',       \n",
            "                                                                  'conv2_block3_3_bn[0][0]']      \n",
            "                                                                                                  \n",
            " conv2_block3_out (Activation)  (None, 56, 56, 256)  0           ['conv2_block3_add[0][0]']       \n",
            "                                                                                                  \n",
            " conv3_block1_1_conv (Conv2D)   (None, 28, 28, 128)  32896       ['conv2_block3_out[0][0]']       \n",
            "                                                                                                  \n",
            " conv3_block1_1_bn (BatchNormal  (None, 28, 28, 128)  512        ['conv3_block1_1_conv[0][0]']    \n",
            " ization)                                                                                         \n",
            "                                                                                                  \n",
            " conv3_block1_1_relu (Activatio  (None, 28, 28, 128)  0          ['conv3_block1_1_bn[0][0]']      \n",
            " n)                                                                                               \n",
            "                                                                                                  \n",
            " conv3_block1_2_conv (Conv2D)   (None, 28, 28, 128)  147584      ['conv3_block1_1_relu[0][0]']    \n",
            "                                                                                                  \n",
            " conv3_block1_2_bn (BatchNormal  (None, 28, 28, 128)  512        ['conv3_block1_2_conv[0][0]']    \n",
            " ization)                                                                                         \n",
            "                                                                                                  \n",
            " conv3_block1_2_relu (Activatio  (None, 28, 28, 128)  0          ['conv3_block1_2_bn[0][0]']      \n",
            " n)                                                                                               \n",
            "                                                                                                  \n",
            " conv3_block1_0_conv (Conv2D)   (None, 28, 28, 512)  131584      ['conv2_block3_out[0][0]']       \n",
            "                                                                                                  \n",
            " conv3_block1_3_conv (Conv2D)   (None, 28, 28, 512)  66048       ['conv3_block1_2_relu[0][0]']    \n",
            "                                                                                                  \n",
            " conv3_block1_0_bn (BatchNormal  (None, 28, 28, 512)  2048       ['conv3_block1_0_conv[0][0]']    \n",
            " ization)                                                                                         \n",
            "                                                                                                  \n",
            " conv3_block1_3_bn (BatchNormal  (None, 28, 28, 512)  2048       ['conv3_block1_3_conv[0][0]']    \n",
            " ization)                                                                                         \n",
            "                                                                                                  \n",
            " conv3_block1_add (Add)         (None, 28, 28, 512)  0           ['conv3_block1_0_bn[0][0]',      \n",
            "                                                                  'conv3_block1_3_bn[0][0]']      \n",
            "                                                                                                  \n",
            " conv3_block1_out (Activation)  (None, 28, 28, 512)  0           ['conv3_block1_add[0][0]']       \n",
            "                                                                                                  \n",
            " conv3_block2_1_conv (Conv2D)   (None, 28, 28, 128)  65664       ['conv3_block1_out[0][0]']       \n",
            "                                                                                                  \n",
            " conv3_block2_1_bn (BatchNormal  (None, 28, 28, 128)  512        ['conv3_block2_1_conv[0][0]']    \n",
            " ization)                                                                                         \n",
            "                                                                                                  \n",
            " conv3_block2_1_relu (Activatio  (None, 28, 28, 128)  0          ['conv3_block2_1_bn[0][0]']      \n",
            " n)                                                                                               \n",
            "                                                                                                  \n",
            " conv3_block2_2_conv (Conv2D)   (None, 28, 28, 128)  147584      ['conv3_block2_1_relu[0][0]']    \n",
            "                                                                                                  \n",
            " conv3_block2_2_bn (BatchNormal  (None, 28, 28, 128)  512        ['conv3_block2_2_conv[0][0]']    \n",
            " ization)                                                                                         \n",
            "                                                                                                  \n",
            " conv3_block2_2_relu (Activatio  (None, 28, 28, 128)  0          ['conv3_block2_2_bn[0][0]']      \n",
            " n)                                                                                               \n",
            "                                                                                                  \n",
            " conv3_block2_3_conv (Conv2D)   (None, 28, 28, 512)  66048       ['conv3_block2_2_relu[0][0]']    \n",
            "                                                                                                  \n",
            " conv3_block2_3_bn (BatchNormal  (None, 28, 28, 512)  2048       ['conv3_block2_3_conv[0][0]']    \n",
            " ization)                                                                                         \n",
            "                                                                                                  \n",
            " conv3_block2_add (Add)         (None, 28, 28, 512)  0           ['conv3_block1_out[0][0]',       \n",
            "                                                                  'conv3_block2_3_bn[0][0]']      \n",
            "                                                                                                  \n",
            " conv3_block2_out (Activation)  (None, 28, 28, 512)  0           ['conv3_block2_add[0][0]']       \n",
            "                                                                                                  \n",
            " conv3_block3_1_conv (Conv2D)   (None, 28, 28, 128)  65664       ['conv3_block2_out[0][0]']       \n",
            "                                                                                                  \n",
            " conv3_block3_1_bn (BatchNormal  (None, 28, 28, 128)  512        ['conv3_block3_1_conv[0][0]']    \n",
            " ization)                                                                                         \n",
            "                                                                                                  \n",
            " conv3_block3_1_relu (Activatio  (None, 28, 28, 128)  0          ['conv3_block3_1_bn[0][0]']      \n",
            " n)                                                                                               \n",
            "                                                                                                  \n",
            " conv3_block3_2_conv (Conv2D)   (None, 28, 28, 128)  147584      ['conv3_block3_1_relu[0][0]']    \n",
            "                                                                                                  \n",
            " conv3_block3_2_bn (BatchNormal  (None, 28, 28, 128)  512        ['conv3_block3_2_conv[0][0]']    \n",
            " ization)                                                                                         \n",
            "                                                                                                  \n",
            " conv3_block3_2_relu (Activatio  (None, 28, 28, 128)  0          ['conv3_block3_2_bn[0][0]']      \n",
            " n)                                                                                               \n",
            "                                                                                                  \n",
            " conv3_block3_3_conv (Conv2D)   (None, 28, 28, 512)  66048       ['conv3_block3_2_relu[0][0]']    \n",
            "                                                                                                  \n",
            " conv3_block3_3_bn (BatchNormal  (None, 28, 28, 512)  2048       ['conv3_block3_3_conv[0][0]']    \n",
            " ization)                                                                                         \n",
            "                                                                                                  \n",
            " conv3_block3_add (Add)         (None, 28, 28, 512)  0           ['conv3_block2_out[0][0]',       \n",
            "                                                                  'conv3_block3_3_bn[0][0]']      \n",
            "                                                                                                  \n",
            " conv3_block3_out (Activation)  (None, 28, 28, 512)  0           ['conv3_block3_add[0][0]']       \n",
            "                                                                                                  \n",
            " conv3_block4_1_conv (Conv2D)   (None, 28, 28, 128)  65664       ['conv3_block3_out[0][0]']       \n",
            "                                                                                                  \n",
            " conv3_block4_1_bn (BatchNormal  (None, 28, 28, 128)  512        ['conv3_block4_1_conv[0][0]']    \n",
            " ization)                                                                                         \n",
            "                                                                                                  \n",
            " conv3_block4_1_relu (Activatio  (None, 28, 28, 128)  0          ['conv3_block4_1_bn[0][0]']      \n",
            " n)                                                                                               \n",
            "                                                                                                  \n",
            " conv3_block4_2_conv (Conv2D)   (None, 28, 28, 128)  147584      ['conv3_block4_1_relu[0][0]']    \n",
            "                                                                                                  \n",
            " conv3_block4_2_bn (BatchNormal  (None, 28, 28, 128)  512        ['conv3_block4_2_conv[0][0]']    \n",
            " ization)                                                                                         \n",
            "                                                                                                  \n",
            " conv3_block4_2_relu (Activatio  (None, 28, 28, 128)  0          ['conv3_block4_2_bn[0][0]']      \n",
            " n)                                                                                               \n",
            "                                                                                                  \n",
            " conv3_block4_3_conv (Conv2D)   (None, 28, 28, 512)  66048       ['conv3_block4_2_relu[0][0]']    \n",
            "                                                                                                  \n",
            " conv3_block4_3_bn (BatchNormal  (None, 28, 28, 512)  2048       ['conv3_block4_3_conv[0][0]']    \n",
            " ization)                                                                                         \n",
            "                                                                                                  \n",
            " conv3_block4_add (Add)         (None, 28, 28, 512)  0           ['conv3_block3_out[0][0]',       \n",
            "                                                                  'conv3_block4_3_bn[0][0]']      \n",
            "                                                                                                  \n",
            " conv3_block4_out (Activation)  (None, 28, 28, 512)  0           ['conv3_block4_add[0][0]']       \n",
            "                                                                                                  \n",
            " conv4_block1_1_conv (Conv2D)   (None, 14, 14, 256)  131328      ['conv3_block4_out[0][0]']       \n",
            "                                                                                                  \n",
            " conv4_block1_1_bn (BatchNormal  (None, 14, 14, 256)  1024       ['conv4_block1_1_conv[0][0]']    \n",
            " ization)                                                                                         \n",
            "                                                                                                  \n",
            " conv4_block1_1_relu (Activatio  (None, 14, 14, 256)  0          ['conv4_block1_1_bn[0][0]']      \n",
            " n)                                                                                               \n",
            "                                                                                                  \n",
            " conv4_block1_2_conv (Conv2D)   (None, 14, 14, 256)  590080      ['conv4_block1_1_relu[0][0]']    \n",
            "                                                                                                  \n",
            " conv4_block1_2_bn (BatchNormal  (None, 14, 14, 256)  1024       ['conv4_block1_2_conv[0][0]']    \n",
            " ization)                                                                                         \n",
            "                                                                                                  \n",
            " conv4_block1_2_relu (Activatio  (None, 14, 14, 256)  0          ['conv4_block1_2_bn[0][0]']      \n",
            " n)                                                                                               \n",
            "                                                                                                  \n",
            " conv4_block1_0_conv (Conv2D)   (None, 14, 14, 1024  525312      ['conv3_block4_out[0][0]']       \n",
            "                                )                                                                 \n",
            "                                                                                                  \n",
            " conv4_block1_3_conv (Conv2D)   (None, 14, 14, 1024  263168      ['conv4_block1_2_relu[0][0]']    \n",
            "                                )                                                                 \n",
            "                                                                                                  \n",
            " conv4_block1_0_bn (BatchNormal  (None, 14, 14, 1024  4096       ['conv4_block1_0_conv[0][0]']    \n",
            " ization)                       )                                                                 \n",
            "                                                                                                  \n",
            " conv4_block1_3_bn (BatchNormal  (None, 14, 14, 1024  4096       ['conv4_block1_3_conv[0][0]']    \n",
            " ization)                       )                                                                 \n",
            "                                                                                                  \n",
            " conv4_block1_add (Add)         (None, 14, 14, 1024  0           ['conv4_block1_0_bn[0][0]',      \n",
            "                                )                                 'conv4_block1_3_bn[0][0]']      \n",
            "                                                                                                  \n",
            " conv4_block1_out (Activation)  (None, 14, 14, 1024  0           ['conv4_block1_add[0][0]']       \n",
            "                                )                                                                 \n",
            "                                                                                                  \n",
            " conv4_block2_1_conv (Conv2D)   (None, 14, 14, 256)  262400      ['conv4_block1_out[0][0]']       \n",
            "                                                                                                  \n",
            " conv4_block2_1_bn (BatchNormal  (None, 14, 14, 256)  1024       ['conv4_block2_1_conv[0][0]']    \n",
            " ization)                                                                                         \n",
            "                                                                                                  \n",
            " conv4_block2_1_relu (Activatio  (None, 14, 14, 256)  0          ['conv4_block2_1_bn[0][0]']      \n",
            " n)                                                                                               \n",
            "                                                                                                  \n",
            " conv4_block2_2_conv (Conv2D)   (None, 14, 14, 256)  590080      ['conv4_block2_1_relu[0][0]']    \n",
            "                                                                                                  \n",
            " conv4_block2_2_bn (BatchNormal  (None, 14, 14, 256)  1024       ['conv4_block2_2_conv[0][0]']    \n",
            " ization)                                                                                         \n",
            "                                                                                                  \n",
            " conv4_block2_2_relu (Activatio  (None, 14, 14, 256)  0          ['conv4_block2_2_bn[0][0]']      \n",
            " n)                                                                                               \n",
            "                                                                                                  \n",
            " conv4_block2_3_conv (Conv2D)   (None, 14, 14, 1024  263168      ['conv4_block2_2_relu[0][0]']    \n",
            "                                )                                                                 \n",
            "                                                                                                  \n",
            " conv4_block2_3_bn (BatchNormal  (None, 14, 14, 1024  4096       ['conv4_block2_3_conv[0][0]']    \n",
            " ization)                       )                                                                 \n",
            "                                                                                                  \n",
            " conv4_block2_add (Add)         (None, 14, 14, 1024  0           ['conv4_block1_out[0][0]',       \n",
            "                                )                                 'conv4_block2_3_bn[0][0]']      \n",
            "                                                                                                  \n",
            " conv4_block2_out (Activation)  (None, 14, 14, 1024  0           ['conv4_block2_add[0][0]']       \n",
            "                                )                                                                 \n",
            "                                                                                                  \n",
            " conv4_block3_1_conv (Conv2D)   (None, 14, 14, 256)  262400      ['conv4_block2_out[0][0]']       \n",
            "                                                                                                  \n",
            " conv4_block3_1_bn (BatchNormal  (None, 14, 14, 256)  1024       ['conv4_block3_1_conv[0][0]']    \n",
            " ization)                                                                                         \n",
            "                                                                                                  \n",
            " conv4_block3_1_relu (Activatio  (None, 14, 14, 256)  0          ['conv4_block3_1_bn[0][0]']      \n",
            " n)                                                                                               \n",
            "                                                                                                  \n",
            " conv4_block3_2_conv (Conv2D)   (None, 14, 14, 256)  590080      ['conv4_block3_1_relu[0][0]']    \n",
            "                                                                                                  \n",
            " conv4_block3_2_bn (BatchNormal  (None, 14, 14, 256)  1024       ['conv4_block3_2_conv[0][0]']    \n",
            " ization)                                                                                         \n",
            "                                                                                                  \n",
            " conv4_block3_2_relu (Activatio  (None, 14, 14, 256)  0          ['conv4_block3_2_bn[0][0]']      \n",
            " n)                                                                                               \n",
            "                                                                                                  \n",
            " conv4_block3_3_conv (Conv2D)   (None, 14, 14, 1024  263168      ['conv4_block3_2_relu[0][0]']    \n",
            "                                )                                                                 \n",
            "                                                                                                  \n",
            " conv4_block3_3_bn (BatchNormal  (None, 14, 14, 1024  4096       ['conv4_block3_3_conv[0][0]']    \n",
            " ization)                       )                                                                 \n",
            "                                                                                                  \n",
            " conv4_block3_add (Add)         (None, 14, 14, 1024  0           ['conv4_block2_out[0][0]',       \n",
            "                                )                                 'conv4_block3_3_bn[0][0]']      \n",
            "                                                                                                  \n",
            " conv4_block3_out (Activation)  (None, 14, 14, 1024  0           ['conv4_block3_add[0][0]']       \n",
            "                                )                                                                 \n",
            "                                                                                                  \n",
            " conv4_block4_1_conv (Conv2D)   (None, 14, 14, 256)  262400      ['conv4_block3_out[0][0]']       \n",
            "                                                                                                  \n",
            " conv4_block4_1_bn (BatchNormal  (None, 14, 14, 256)  1024       ['conv4_block4_1_conv[0][0]']    \n",
            " ization)                                                                                         \n",
            "                                                                                                  \n",
            " conv4_block4_1_relu (Activatio  (None, 14, 14, 256)  0          ['conv4_block4_1_bn[0][0]']      \n",
            " n)                                                                                               \n",
            "                                                                                                  \n",
            " conv4_block4_2_conv (Conv2D)   (None, 14, 14, 256)  590080      ['conv4_block4_1_relu[0][0]']    \n",
            "                                                                                                  \n",
            " conv4_block4_2_bn (BatchNormal  (None, 14, 14, 256)  1024       ['conv4_block4_2_conv[0][0]']    \n",
            " ization)                                                                                         \n",
            "                                                                                                  \n",
            " conv4_block4_2_relu (Activatio  (None, 14, 14, 256)  0          ['conv4_block4_2_bn[0][0]']      \n",
            " n)                                                                                               \n",
            "                                                                                                  \n",
            " conv4_block4_3_conv (Conv2D)   (None, 14, 14, 1024  263168      ['conv4_block4_2_relu[0][0]']    \n",
            "                                )                                                                 \n",
            "                                                                                                  \n",
            " conv4_block4_3_bn (BatchNormal  (None, 14, 14, 1024  4096       ['conv4_block4_3_conv[0][0]']    \n",
            " ization)                       )                                                                 \n",
            "                                                                                                  \n",
            " conv4_block4_add (Add)         (None, 14, 14, 1024  0           ['conv4_block3_out[0][0]',       \n",
            "                                )                                 'conv4_block4_3_bn[0][0]']      \n",
            "                                                                                                  \n",
            " conv4_block4_out (Activation)  (None, 14, 14, 1024  0           ['conv4_block4_add[0][0]']       \n",
            "                                )                                                                 \n",
            "                                                                                                  \n",
            " conv4_block5_1_conv (Conv2D)   (None, 14, 14, 256)  262400      ['conv4_block4_out[0][0]']       \n",
            "                                                                                                  \n",
            " conv4_block5_1_bn (BatchNormal  (None, 14, 14, 256)  1024       ['conv4_block5_1_conv[0][0]']    \n",
            " ization)                                                                                         \n",
            "                                                                                                  \n",
            " conv4_block5_1_relu (Activatio  (None, 14, 14, 256)  0          ['conv4_block5_1_bn[0][0]']      \n",
            " n)                                                                                               \n",
            "                                                                                                  \n",
            " conv4_block5_2_conv (Conv2D)   (None, 14, 14, 256)  590080      ['conv4_block5_1_relu[0][0]']    \n",
            "                                                                                                  \n",
            " conv4_block5_2_bn (BatchNormal  (None, 14, 14, 256)  1024       ['conv4_block5_2_conv[0][0]']    \n",
            " ization)                                                                                         \n",
            "                                                                                                  \n",
            " conv4_block5_2_relu (Activatio  (None, 14, 14, 256)  0          ['conv4_block5_2_bn[0][0]']      \n",
            " n)                                                                                               \n",
            "                                                                                                  \n",
            " conv4_block5_3_conv (Conv2D)   (None, 14, 14, 1024  263168      ['conv4_block5_2_relu[0][0]']    \n",
            "                                )                                                                 \n",
            "                                                                                                  \n",
            " conv4_block5_3_bn (BatchNormal  (None, 14, 14, 1024  4096       ['conv4_block5_3_conv[0][0]']    \n",
            " ization)                       )                                                                 \n",
            "                                                                                                  \n",
            " conv4_block5_add (Add)         (None, 14, 14, 1024  0           ['conv4_block4_out[0][0]',       \n",
            "                                )                                 'conv4_block5_3_bn[0][0]']      \n",
            "                                                                                                  \n",
            " conv4_block5_out (Activation)  (None, 14, 14, 1024  0           ['conv4_block5_add[0][0]']       \n",
            "                                )                                                                 \n",
            "                                                                                                  \n",
            " conv4_block6_1_conv (Conv2D)   (None, 14, 14, 256)  262400      ['conv4_block5_out[0][0]']       \n",
            "                                                                                                  \n",
            " conv4_block6_1_bn (BatchNormal  (None, 14, 14, 256)  1024       ['conv4_block6_1_conv[0][0]']    \n",
            " ization)                                                                                         \n",
            "                                                                                                  \n",
            " conv4_block6_1_relu (Activatio  (None, 14, 14, 256)  0          ['conv4_block6_1_bn[0][0]']      \n",
            " n)                                                                                               \n",
            "                                                                                                  \n",
            " conv4_block6_2_conv (Conv2D)   (None, 14, 14, 256)  590080      ['conv4_block6_1_relu[0][0]']    \n",
            "                                                                                                  \n",
            " conv4_block6_2_bn (BatchNormal  (None, 14, 14, 256)  1024       ['conv4_block6_2_conv[0][0]']    \n",
            " ization)                                                                                         \n",
            "                                                                                                  \n",
            " conv4_block6_2_relu (Activatio  (None, 14, 14, 256)  0          ['conv4_block6_2_bn[0][0]']      \n",
            " n)                                                                                               \n",
            "                                                                                                  \n",
            " conv4_block6_3_conv (Conv2D)   (None, 14, 14, 1024  263168      ['conv4_block6_2_relu[0][0]']    \n",
            "                                )                                                                 \n",
            "                                                                                                  \n",
            " conv4_block6_3_bn (BatchNormal  (None, 14, 14, 1024  4096       ['conv4_block6_3_conv[0][0]']    \n",
            " ization)                       )                                                                 \n",
            "                                                                                                  \n",
            " conv4_block6_add (Add)         (None, 14, 14, 1024  0           ['conv4_block5_out[0][0]',       \n",
            "                                )                                 'conv4_block6_3_bn[0][0]']      \n",
            "                                                                                                  \n",
            " conv4_block6_out (Activation)  (None, 14, 14, 1024  0           ['conv4_block6_add[0][0]']       \n",
            "                                )                                                                 \n",
            "                                                                                                  \n",
            " conv5_block1_1_conv (Conv2D)   (None, 7, 7, 512)    524800      ['conv4_block6_out[0][0]']       \n",
            "                                                                                                  \n",
            " conv5_block1_1_bn (BatchNormal  (None, 7, 7, 512)   2048        ['conv5_block1_1_conv[0][0]']    \n",
            " ization)                                                                                         \n",
            "                                                                                                  \n",
            " conv5_block1_1_relu (Activatio  (None, 7, 7, 512)   0           ['conv5_block1_1_bn[0][0]']      \n",
            " n)                                                                                               \n",
            "                                                                                                  \n",
            " conv5_block1_2_conv (Conv2D)   (None, 7, 7, 512)    2359808     ['conv5_block1_1_relu[0][0]']    \n",
            "                                                                                                  \n",
            " conv5_block1_2_bn (BatchNormal  (None, 7, 7, 512)   2048        ['conv5_block1_2_conv[0][0]']    \n",
            " ization)                                                                                         \n",
            "                                                                                                  \n",
            " conv5_block1_2_relu (Activatio  (None, 7, 7, 512)   0           ['conv5_block1_2_bn[0][0]']      \n",
            " n)                                                                                               \n",
            "                                                                                                  \n",
            " conv5_block1_0_conv (Conv2D)   (None, 7, 7, 2048)   2099200     ['conv4_block6_out[0][0]']       \n",
            "                                                                                                  \n",
            " conv5_block1_3_conv (Conv2D)   (None, 7, 7, 2048)   1050624     ['conv5_block1_2_relu[0][0]']    \n",
            "                                                                                                  \n",
            " conv5_block1_0_bn (BatchNormal  (None, 7, 7, 2048)  8192        ['conv5_block1_0_conv[0][0]']    \n",
            " ization)                                                                                         \n",
            "                                                                                                  \n",
            " conv5_block1_3_bn (BatchNormal  (None, 7, 7, 2048)  8192        ['conv5_block1_3_conv[0][0]']    \n",
            " ization)                                                                                         \n",
            "                                                                                                  \n",
            " conv5_block1_add (Add)         (None, 7, 7, 2048)   0           ['conv5_block1_0_bn[0][0]',      \n",
            "                                                                  'conv5_block1_3_bn[0][0]']      \n",
            "                                                                                                  \n",
            " conv5_block1_out (Activation)  (None, 7, 7, 2048)   0           ['conv5_block1_add[0][0]']       \n",
            "                                                                                                  \n",
            " conv5_block2_1_conv (Conv2D)   (None, 7, 7, 512)    1049088     ['conv5_block1_out[0][0]']       \n",
            "                                                                                                  \n",
            " conv5_block2_1_bn (BatchNormal  (None, 7, 7, 512)   2048        ['conv5_block2_1_conv[0][0]']    \n",
            " ization)                                                                                         \n",
            "                                                                                                  \n",
            " conv5_block2_1_relu (Activatio  (None, 7, 7, 512)   0           ['conv5_block2_1_bn[0][0]']      \n",
            " n)                                                                                               \n",
            "                                                                                                  \n",
            " conv5_block2_2_conv (Conv2D)   (None, 7, 7, 512)    2359808     ['conv5_block2_1_relu[0][0]']    \n",
            "                                                                                                  \n",
            " conv5_block2_2_bn (BatchNormal  (None, 7, 7, 512)   2048        ['conv5_block2_2_conv[0][0]']    \n",
            " ization)                                                                                         \n",
            "                                                                                                  \n",
            " conv5_block2_2_relu (Activatio  (None, 7, 7, 512)   0           ['conv5_block2_2_bn[0][0]']      \n",
            " n)                                                                                               \n",
            "                                                                                                  \n",
            " conv5_block2_3_conv (Conv2D)   (None, 7, 7, 2048)   1050624     ['conv5_block2_2_relu[0][0]']    \n",
            "                                                                                                  \n",
            " conv5_block2_3_bn (BatchNormal  (None, 7, 7, 2048)  8192        ['conv5_block2_3_conv[0][0]']    \n",
            " ization)                                                                                         \n",
            "                                                                                                  \n",
            " conv5_block2_add (Add)         (None, 7, 7, 2048)   0           ['conv5_block1_out[0][0]',       \n",
            "                                                                  'conv5_block2_3_bn[0][0]']      \n",
            "                                                                                                  \n",
            " conv5_block2_out (Activation)  (None, 7, 7, 2048)   0           ['conv5_block2_add[0][0]']       \n",
            "                                                                                                  \n",
            " conv5_block3_1_conv (Conv2D)   (None, 7, 7, 512)    1049088     ['conv5_block2_out[0][0]']       \n",
            "                                                                                                  \n",
            " conv5_block3_1_bn (BatchNormal  (None, 7, 7, 512)   2048        ['conv5_block3_1_conv[0][0]']    \n",
            " ization)                                                                                         \n",
            "                                                                                                  \n",
            " conv5_block3_1_relu (Activatio  (None, 7, 7, 512)   0           ['conv5_block3_1_bn[0][0]']      \n",
            " n)                                                                                               \n",
            "                                                                                                  \n",
            " conv5_block3_2_conv (Conv2D)   (None, 7, 7, 512)    2359808     ['conv5_block3_1_relu[0][0]']    \n",
            "                                                                                                  \n",
            " conv5_block3_2_bn (BatchNormal  (None, 7, 7, 512)   2048        ['conv5_block3_2_conv[0][0]']    \n",
            " ization)                                                                                         \n",
            "                                                                                                  \n",
            " conv5_block3_2_relu (Activatio  (None, 7, 7, 512)   0           ['conv5_block3_2_bn[0][0]']      \n",
            " n)                                                                                               \n",
            "                                                                                                  \n",
            " conv5_block3_3_conv (Conv2D)   (None, 7, 7, 2048)   1050624     ['conv5_block3_2_relu[0][0]']    \n",
            "                                                                                                  \n",
            " conv5_block3_3_bn (BatchNormal  (None, 7, 7, 2048)  8192        ['conv5_block3_3_conv[0][0]']    \n",
            " ization)                                                                                         \n",
            "                                                                                                  \n",
            " conv5_block3_add (Add)         (None, 7, 7, 2048)   0           ['conv5_block2_out[0][0]',       \n",
            "                                                                  'conv5_block3_3_bn[0][0]']      \n",
            "                                                                                                  \n",
            " conv5_block3_out (Activation)  (None, 7, 7, 2048)   0           ['conv5_block3_add[0][0]']       \n",
            "                                                                                                  \n",
            " flatten_1 (Flatten)            (None, 100352)       0           ['conv5_block3_out[0][0]']       \n",
            "                                                                                                  \n",
            " dense_1 (Dense)                (None, 3)            301059      ['flatten_1[0][0]']              \n",
            "                                                                                                  \n",
            "==================================================================================================\n",
            "Total params: 23,888,771\n",
            "Trainable params: 301,059\n",
            "Non-trainable params: 23,587,712\n",
            "__________________________________________________________________________________________________\n"
          ]
        }
      ]
    },
    {
      "cell_type": "code",
      "source": [
        "# tell the model what cost and optimization method to use\n",
        "model.compile(\n",
        "  loss='categorical_crossentropy',\n",
        "  optimizer='adam', \n",
        "  metrics=['accuracy']  \n",
        ") "
      ],
      "metadata": {
        "id": "McAUV5_76iZD"
      },
      "execution_count": null,
      "outputs": []
    },
    {
      "cell_type": "code",
      "source": [
        "#data augmentation to generate more image data nd we do it in train data only\n",
        "# Use the Image Data Generator to import the images from the dataset\n",
        "from tensorflow.keras.preprocessing.image import ImageDataGenerator\n",
        "\n",
        "train_datagen = ImageDataGenerator(rescale = 1./255,\n",
        "                                   shear_range = 0.2,\n",
        "                                   zoom_range = 0.2,\n",
        "                                   horizontal_flip = True)\n",
        "\n",
        "test_datagen = ImageDataGenerator(rescale = 1./255)"
      ],
      "metadata": {
        "id": "mMegAz8X6kgy"
      },
      "execution_count": null,
      "outputs": []
    },
    {
      "cell_type": "code",
      "source": [
        "# Make sure you provide the same target size as initialied for the image size\n",
        "training_set = train_datagen.flow_from_directory('/content/drive/MyDrive/dataset/train',\n",
        "                                                 target_size = (224, 224),\n",
        "                                                 batch_size = 32,\n",
        "                                                 class_mode = 'categorical')\n"
      ],
      "metadata": {
        "colab": {
          "base_uri": "https://localhost:8080/"
        },
        "id": "WRODDYLo6sLU",
        "outputId": "504a2b89-adf4-456e-ec77-c32269a46622"
      },
      "execution_count": null,
      "outputs": [
        {
          "output_type": "stream",
          "name": "stdout",
          "text": [
            "Found 574 images belonging to 3 classes.\n"
          ]
        }
      ]
    },
    {
      "cell_type": "code",
      "source": [
        "test_set = test_datagen.flow_from_directory('/content/drive/MyDrive/dataset/test',\n",
        "                                            target_size = (224, 224),\n",
        "                                            batch_size = 32,\n",
        "                                            class_mode = 'categorical')"
      ],
      "metadata": {
        "colab": {
          "base_uri": "https://localhost:8080/"
        },
        "id": "Lkz1glkx69WF",
        "outputId": "f12bbcfc-9ed3-49d4-cc06-90248ba28b64"
      },
      "execution_count": null,
      "outputs": [
        {
          "output_type": "stream",
          "name": "stdout",
          "text": [
            "Found 226 images belonging to 3 classes.\n"
          ]
        }
      ]
    },
    {
      "cell_type": "code",
      "source": [
        "# fit the model\n",
        "# Run the cell. It will take some time to execute\n",
        "r = model.fit(\n",
        "  training_set,\n",
        "  validation_data=test_set,\n",
        "  epochs=50,\n",
        "  steps_per_epoch=len(training_set),\n",
        "  validation_steps=len(test_set)\n",
        ") "
      ],
      "metadata": {
        "colab": {
          "base_uri": "https://localhost:8080/"
        },
        "id": "rGzTidn28FgV",
        "outputId": "1f646f85-ed38-4147-b0e1-eb9f34e9796c"
      },
      "execution_count": null,
      "outputs": [
        {
          "metadata": {
            "tags": null
          },
          "name": "stdout",
          "output_type": "stream",
          "text": [
            "Epoch 1/50\n",
            "13/18 [====================>.........] - ETA: 30s - loss: 5.4782 - accuracy: 0.3382"
          ]
        },
        {
          "metadata": {
            "tags": null
          },
          "name": "stderr",
          "output_type": "stream",
          "text": [
            "/usr/local/lib/python3.8/dist-packages/PIL/Image.py:959: UserWarning: Palette images with Transparency expressed in bytes should be converted to RGBA images\n",
            "  warnings.warn(\n"
          ]
        },
        {
          "output_type": "stream",
          "name": "stdout",
          "text": [
            "18/18 [==============================] - 194s 11s/step - loss: 5.0887 - accuracy: 0.3240 - val_loss: 1.0186 - val_accuracy: 0.5044\n",
            "Epoch 2/50\n",
            "18/18 [==============================] - 144s 8s/step - loss: 1.7420 - accuracy: 0.4547 - val_loss: 1.5227 - val_accuracy: 0.4292\n",
            "Epoch 3/50\n",
            "18/18 [==============================] - 150s 8s/step - loss: 1.2007 - accuracy: 0.4843 - val_loss: 0.9323 - val_accuracy: 0.5752\n",
            "Epoch 4/50\n",
            "18/18 [==============================] - 144s 8s/step - loss: 0.8947 - accuracy: 0.5784 - val_loss: 1.0422 - val_accuracy: 0.4690\n",
            "Epoch 5/50\n",
            "18/18 [==============================] - 144s 8s/step - loss: 1.0483 - accuracy: 0.5087 - val_loss: 0.9424 - val_accuracy: 0.4912\n",
            "Epoch 6/50\n",
            "18/18 [==============================] - 149s 8s/step - loss: 0.9591 - accuracy: 0.5366 - val_loss: 0.6623 - val_accuracy: 0.7212\n",
            "Epoch 7/50\n",
            "18/18 [==============================] - 142s 8s/step - loss: 0.8867 - accuracy: 0.5923 - val_loss: 1.5159 - val_accuracy: 0.4425\n",
            "Epoch 8/50\n",
            "18/18 [==============================] - 144s 8s/step - loss: 0.8174 - accuracy: 0.6463 - val_loss: 0.8491 - val_accuracy: 0.6106\n",
            "Epoch 9/50\n",
            "18/18 [==============================] - 145s 8s/step - loss: 0.9165 - accuracy: 0.6167 - val_loss: 0.7843 - val_accuracy: 0.6372\n",
            "Epoch 10/50\n",
            "18/18 [==============================] - 148s 8s/step - loss: 0.9091 - accuracy: 0.5941 - val_loss: 0.6253 - val_accuracy: 0.7035\n",
            "Epoch 11/50\n",
            "18/18 [==============================] - 144s 8s/step - loss: 0.7680 - accuracy: 0.6551 - val_loss: 0.7270 - val_accuracy: 0.6726\n",
            "Epoch 12/50\n",
            "18/18 [==============================] - 143s 8s/step - loss: 0.7457 - accuracy: 0.6690 - val_loss: 0.9098 - val_accuracy: 0.5310\n",
            "Epoch 13/50\n",
            "18/18 [==============================] - 143s 8s/step - loss: 0.8197 - accuracy: 0.6376 - val_loss: 0.8642 - val_accuracy: 0.6327\n",
            "Epoch 14/50\n",
            "18/18 [==============================] - 143s 8s/step - loss: 1.1447 - accuracy: 0.5784 - val_loss: 1.8882 - val_accuracy: 0.4159\n",
            "Epoch 15/50\n",
            "18/18 [==============================] - 143s 8s/step - loss: 0.8943 - accuracy: 0.6533 - val_loss: 0.6795 - val_accuracy: 0.7080\n",
            "Epoch 16/50\n",
            "18/18 [==============================] - 145s 8s/step - loss: 0.7436 - accuracy: 0.6638 - val_loss: 1.2467 - val_accuracy: 0.5000\n",
            "Epoch 17/50\n",
            "18/18 [==============================] - 144s 8s/step - loss: 0.9798 - accuracy: 0.5923 - val_loss: 0.6238 - val_accuracy: 0.7478\n",
            "Epoch 18/50\n",
            "18/18 [==============================] - 142s 8s/step - loss: 0.7802 - accuracy: 0.6446 - val_loss: 0.7136 - val_accuracy: 0.7124\n",
            "Epoch 19/50\n",
            "18/18 [==============================] - 143s 8s/step - loss: 0.9719 - accuracy: 0.6150 - val_loss: 0.7874 - val_accuracy: 0.6770\n",
            "Epoch 20/50\n",
            "18/18 [==============================] - 146s 8s/step - loss: 0.6152 - accuracy: 0.7422 - val_loss: 0.5918 - val_accuracy: 0.7611\n",
            "Epoch 21/50\n",
            "18/18 [==============================] - 145s 8s/step - loss: 0.8222 - accuracy: 0.6969 - val_loss: 0.9596 - val_accuracy: 0.5752\n",
            "Epoch 22/50\n",
            "18/18 [==============================] - 144s 8s/step - loss: 0.6470 - accuracy: 0.7265 - val_loss: 0.4803 - val_accuracy: 0.8274\n",
            "Epoch 23/50\n",
            "18/18 [==============================] - 148s 8s/step - loss: 0.6498 - accuracy: 0.7108 - val_loss: 0.4657 - val_accuracy: 0.8097\n",
            "Epoch 24/50\n",
            "18/18 [==============================] - 144s 8s/step - loss: 0.5613 - accuracy: 0.7544 - val_loss: 0.5945 - val_accuracy: 0.7876\n",
            "Epoch 25/50\n",
            "18/18 [==============================] - 143s 8s/step - loss: 0.6167 - accuracy: 0.7282 - val_loss: 0.7328 - val_accuracy: 0.6593\n",
            "Epoch 26/50\n",
            "18/18 [==============================] - 143s 8s/step - loss: 0.7607 - accuracy: 0.6725 - val_loss: 0.9866 - val_accuracy: 0.6372\n",
            "Epoch 27/50\n",
            "18/18 [==============================] - 141s 8s/step - loss: 0.6801 - accuracy: 0.7073 - val_loss: 0.4504 - val_accuracy: 0.8230\n",
            "Epoch 28/50\n",
            "18/18 [==============================] - 143s 8s/step - loss: 0.7733 - accuracy: 0.6812 - val_loss: 0.5592 - val_accuracy: 0.7301\n",
            "Epoch 29/50\n",
            "18/18 [==============================] - 141s 8s/step - loss: 0.9404 - accuracy: 0.6394 - val_loss: 0.7561 - val_accuracy: 0.7257\n",
            "Epoch 30/50\n",
            "18/18 [==============================] - 140s 8s/step - loss: 0.7465 - accuracy: 0.7021 - val_loss: 0.4428 - val_accuracy: 0.8274\n",
            "Epoch 31/50\n",
            "18/18 [==============================] - 138s 8s/step - loss: 0.5454 - accuracy: 0.7613 - val_loss: 0.4380 - val_accuracy: 0.8451\n",
            "Epoch 32/50\n",
            "18/18 [==============================] - 140s 8s/step - loss: 0.4703 - accuracy: 0.8084 - val_loss: 0.5411 - val_accuracy: 0.7876\n",
            "Epoch 33/50\n",
            "18/18 [==============================] - 141s 8s/step - loss: 0.5512 - accuracy: 0.7596 - val_loss: 0.5630 - val_accuracy: 0.7566\n",
            "Epoch 34/50\n",
            "18/18 [==============================] - 141s 8s/step - loss: 0.6022 - accuracy: 0.7439 - val_loss: 0.8820 - val_accuracy: 0.6372\n",
            "Epoch 35/50\n",
            "18/18 [==============================] - 140s 8s/step - loss: 0.6057 - accuracy: 0.7509 - val_loss: 0.9259 - val_accuracy: 0.5929\n",
            "Epoch 36/50\n",
            "18/18 [==============================] - 141s 8s/step - loss: 0.5955 - accuracy: 0.7596 - val_loss: 0.5348 - val_accuracy: 0.7788\n",
            "Epoch 37/50\n",
            "18/18 [==============================] - 140s 8s/step - loss: 0.5210 - accuracy: 0.7840 - val_loss: 0.4434 - val_accuracy: 0.8053\n",
            "Epoch 38/50\n",
            "18/18 [==============================] - 138s 8s/step - loss: 0.4516 - accuracy: 0.8310 - val_loss: 0.4611 - val_accuracy: 0.8230\n",
            "Epoch 39/50\n",
            "18/18 [==============================] - 140s 8s/step - loss: 0.5078 - accuracy: 0.7805 - val_loss: 0.5839 - val_accuracy: 0.7832\n",
            "Epoch 40/50\n",
            "18/18 [==============================] - 139s 8s/step - loss: 0.5760 - accuracy: 0.7648 - val_loss: 0.4263 - val_accuracy: 0.8319\n",
            "Epoch 41/50\n",
            "18/18 [==============================] - 137s 8s/step - loss: 0.6111 - accuracy: 0.7578 - val_loss: 0.7620 - val_accuracy: 0.7035\n",
            "Epoch 42/50\n",
            "18/18 [==============================] - 139s 8s/step - loss: 0.7569 - accuracy: 0.6986 - val_loss: 0.5742 - val_accuracy: 0.7743\n",
            "Epoch 43/50\n",
            "18/18 [==============================] - 139s 8s/step - loss: 0.7072 - accuracy: 0.7300 - val_loss: 0.6074 - val_accuracy: 0.7301\n",
            "Epoch 44/50\n",
            "18/18 [==============================] - 140s 8s/step - loss: 0.5425 - accuracy: 0.7735 - val_loss: 0.9488 - val_accuracy: 0.6283\n",
            "Epoch 45/50\n",
            "18/18 [==============================] - 137s 8s/step - loss: 0.6462 - accuracy: 0.7195 - val_loss: 0.5047 - val_accuracy: 0.7788\n",
            "Epoch 46/50\n",
            "18/18 [==============================] - 138s 8s/step - loss: 0.5936 - accuracy: 0.7631 - val_loss: 0.6029 - val_accuracy: 0.7168\n",
            "Epoch 47/50\n",
            "18/18 [==============================] - 139s 8s/step - loss: 0.4378 - accuracy: 0.8188 - val_loss: 0.3779 - val_accuracy: 0.8407\n",
            "Epoch 48/50\n",
            "18/18 [==============================] - 138s 8s/step - loss: 0.3468 - accuracy: 0.8763 - val_loss: 0.3638 - val_accuracy: 0.8407\n",
            "Epoch 49/50\n",
            "18/18 [==============================] - 139s 8s/step - loss: 0.3934 - accuracy: 0.8571 - val_loss: 0.6224 - val_accuracy: 0.7699\n",
            "Epoch 50/50\n",
            "18/18 [==============================] - 140s 8s/step - loss: 0.7329 - accuracy: 0.7003 - val_loss: 0.6579 - val_accuracy: 0.7212\n"
          ]
        }
      ]
    },
    {
      "cell_type": "code",
      "source": [
        "# plot the loss\n",
        "plt.plot(r.history['loss'], label='train loss')\n",
        "plt.plot(r.history['val_loss'], label='val loss')\n",
        "plt.legend()\n",
        "plt.show()\n",
        "plt.savefig('LossVal_loss')\n",
        "\n",
        "# plot the accuracy\n",
        "plt.plot(r.history['accuracy'], label='train acc')\n",
        "plt.plot(r.history['val_accuracy'], label='val acc')\n",
        "plt.legend()\n",
        "plt.show()\n",
        "plt.savefig('AccVal_acc')"
      ],
      "metadata": {
        "colab": {
          "base_uri": "https://localhost:8080/",
          "height": 534
        },
        "id": "D4xxi4DvvTBx",
        "outputId": "a3cab8db-192e-4252-9384-23d1a3472633"
      },
      "execution_count": null,
      "outputs": [
        {
          "output_type": "display_data",
          "data": {
            "text/plain": [
              "<Figure size 432x288 with 1 Axes>"
            ],
            "image/png": "[encoded data removed]"
          },
          "metadata": {
            "needs_background": "light"
          }
        },
        {
          "output_type": "display_data",
          "data": {
            "text/plain": [
              "<Figure size 432x288 with 1 Axes>"
            ],
            "image/png": "[encoded data removed]"
          },
          "metadata": {
            "needs_background": "light"
          }
        },
        {
          "output_type": "display_data",
          "data": {
            "text/plain": [
              "<Figure size 432x288 with 0 Axes>"
            ]
          },
          "metadata": {}
        }
      ]
    },
    {
      "cell_type": "code",
      "source": [
        "# save it as a h5 file\n",
        "from tensorflow.keras.models import load_model\n",
        "\n",
        "model.save('model_resnet50.h5')"
      ],
      "metadata": {
        "id": "5mdXrFYmv4sA"
      },
      "execution_count": null,
      "outputs": []
    },
    {
      "cell_type": "code",
      "source": [
        "#prediction of test data\n",
        "y_pred = model.predict(test_set)"
      ],
      "metadata": {
        "colab": {
          "base_uri": "https://localhost:8080/"
        },
        "id": "8msn_NmNv8Pe",
        "outputId": "3f6470ea-8bea-4f88-f186-4a72da79fe21"
      },
      "execution_count": null,
      "outputs": [
        {
          "output_type": "stream",
          "name": "stdout",
          "text": [
            "8/8 [==============================] - 39s 5s/step\n"
          ]
        }
      ]
    },
    {
      "cell_type": "code",
      "source": [
        "#output for all the images in test data\n",
        "y_pred"
      ],
      "metadata": {
        "colab": {
          "base_uri": "https://localhost:8080/"
        },
        "id": "dX7faXOwv_T0",
        "outputId": "7b30367f-cdf4-4fbf-8682-67de94b2121c"
      },
      "execution_count": null,
      "outputs": [
        {
          "output_type": "execute_result",
          "data": {
            "text/plain": [
              "array([[9.81517553e-01, 7.37096695e-03, 1.11115919e-02],\n",
              "       [3.96760665e-02, 2.71730591e-02, 9.33150887e-01],\n",
              "       [9.99829531e-01, 1.45852580e-04, 2.45461706e-05],\n",
              "       [3.62601801e-04, 5.10451559e-04, 9.99126911e-01],\n",
              "       [3.52777453e-04, 9.94509578e-01, 5.13762748e-03],\n",
              "       [1.04621261e-01, 8.38328540e-01, 5.70500717e-02],\n",
              "       [2.49565005e-01, 5.91809803e-04, 7.49843121e-01],\n",
              "       [2.83444732e-01, 3.50384682e-01, 3.66170496e-01],\n",
              "       [7.52716720e-01, 1.48709178e-01, 9.85740647e-02],\n",
              "       [9.11072493e-01, 5.41822333e-03, 8.35092217e-02],\n",
              "       [3.08480322e-01, 4.65580404e-01, 2.25939408e-01],\n",
              "       [2.37281827e-04, 9.97887909e-01, 1.87473791e-03],\n",
              "       [7.17398226e-01, 2.49406055e-01, 3.31956595e-02],\n",
              "       [5.73563157e-05, 9.97219205e-01, 2.72350502e-03],\n",
              "       [2.34354839e-01, 3.01414102e-01, 4.64231014e-01],\n",
              "       [8.23236585e-01, 6.76010400e-02, 1.09162427e-01],\n",
              "       [1.32091753e-02, 1.45368569e-03, 9.85337257e-01],\n",
              "       [1.83728838e-03, 9.95530784e-01, 2.63191457e-03],\n",
              "       [1.58140585e-01, 5.93301980e-03, 8.35926294e-01],\n",
              "       [1.65396796e-05, 9.99975383e-01, 7.98929977e-06],\n",
              "       [3.05221975e-01, 4.92768943e-01, 2.02009097e-01],\n",
              "       [4.00680035e-01, 5.49958408e-01, 4.93614860e-02],\n",
              "       [3.05596113e-01, 6.86715066e-01, 7.68887484e-03],\n",
              "       [7.88020194e-02, 1.34540260e-05, 9.21184421e-01],\n",
              "       [3.24704051e-02, 1.59561820e-03, 9.65933979e-01],\n",
              "       [6.99097617e-03, 2.64962382e-05, 9.92982447e-01],\n",
              "       [1.81548931e-02, 9.79874671e-01, 1.97040872e-03],\n",
              "       [4.58603531e-01, 3.86552036e-01, 1.54844493e-01],\n",
              "       [9.01767612e-01, 2.95591075e-04, 9.79367644e-02],\n",
              "       [5.02321273e-02, 8.82468522e-01, 6.72993436e-02],\n",
              "       [4.15123394e-03, 9.91491556e-01, 4.35712654e-03],\n",
              "       [1.65437475e-01, 1.72286120e-03, 8.32839727e-01],\n",
              "       [2.68810592e-03, 9.95449126e-01, 1.86275237e-03],\n",
              "       [7.85627775e-03, 9.92005348e-01, 1.38387360e-04],\n",
              "       [5.66469952e-02, 9.40055586e-03, 9.33952391e-01],\n",
              "       [5.26708271e-03, 1.50508983e-02, 9.79681969e-01],\n",
              "       [2.28591487e-01, 1.24785886e-03, 7.70160615e-01],\n",
              "       [5.40147594e-05, 4.73425986e-04, 9.99472439e-01],\n",
              "       [1.28048599e-01, 6.92985296e-01, 1.78966075e-01],\n",
              "       [7.15679908e-03, 9.90443408e-01, 2.39980174e-03],\n",
              "       [9.97394323e-01, 7.64995639e-05, 2.52917269e-03],\n",
              "       [5.65675907e-02, 8.29645753e-01, 1.13786645e-01],\n",
              "       [5.89370728e-01, 3.73250730e-02, 3.73304129e-01],\n",
              "       [3.47279198e-02, 3.08856223e-04, 9.64963257e-01],\n",
              "       [9.94195104e-01, 5.46644034e-04, 5.25823608e-03],\n",
              "       [2.31811777e-03, 9.87775087e-01, 9.90686379e-03],\n",
              "       [2.52591997e-01, 6.78921163e-01, 6.84868470e-02],\n",
              "       [8.39505076e-01, 7.43907783e-03, 1.53055862e-01],\n",
              "       [3.68077487e-01, 1.40092507e-01, 4.91830051e-01],\n",
              "       [1.18546695e-01, 8.72582436e-01, 8.87086336e-03],\n",
              "       [3.80390361e-02, 3.60677958e-01, 6.01282954e-01],\n",
              "       [1.24917642e-04, 9.99840736e-01, 3.43878164e-05],\n",
              "       [6.75893724e-01, 3.07352887e-03, 3.21032733e-01],\n",
              "       [1.09797549e-02, 9.76027548e-01, 1.29927732e-02],\n",
              "       [7.05481097e-02, 6.90769315e-01, 2.38682657e-01],\n",
              "       [5.79599440e-02, 8.95901322e-01, 4.61387262e-02],\n",
              "       [9.94032264e-01, 2.66653951e-03, 3.30117927e-03],\n",
              "       [7.94385850e-01, 1.23982895e-02, 1.93215936e-01],\n",
              "       [7.87341714e-01, 3.55793796e-02, 1.77078828e-01],\n",
              "       [1.89346507e-01, 6.99365854e-01, 1.11287758e-01],\n",
              "       [1.81775734e-01, 8.14461112e-01, 3.76318977e-03],\n",
              "       [2.58126529e-03, 8.62511434e-03, 9.88793612e-01],\n",
              "       [2.56603986e-01, 7.02579767e-02, 6.73138082e-01],\n",
              "       [9.78966892e-01, 2.00861745e-04, 2.08322387e-02],\n",
              "       [9.87609327e-01, 5.72971720e-03, 6.66108495e-03],\n",
              "       [4.93471116e-01, 2.70589720e-03, 5.03822923e-01],\n",
              "       [1.21781821e-04, 9.99858379e-01, 1.97418867e-05],\n",
              "       [4.50804867e-02, 1.93220936e-02, 9.35597479e-01],\n",
              "       [2.68816262e-01, 3.12768243e-04, 7.30870962e-01],\n",
              "       [9.01932269e-03, 9.89477992e-01, 1.50269875e-03],\n",
              "       [3.75375688e-01, 5.88205874e-01, 3.64184156e-02],\n",
              "       [7.41487183e-03, 9.91702557e-01, 8.82511726e-04],\n",
              "       [8.73447180e-01, 1.83338852e-05, 1.26534566e-01],\n",
              "       [1.61326898e-04, 2.19368580e-04, 9.99619305e-01],\n",
              "       [9.99968231e-01, 4.96986445e-07, 3.12226402e-05],\n",
              "       [1.94148809e-01, 1.70446688e-03, 8.04146767e-01],\n",
              "       [1.75196499e-01, 2.49805365e-04, 8.24553609e-01],\n",
              "       [5.88928647e-02, 8.45086586e-04, 9.40262079e-01],\n",
              "       [7.96821062e-03, 4.66266908e-02, 9.45405126e-01],\n",
              "       [3.84762466e-01, 2.81538367e-01, 3.33699167e-01],\n",
              "       [1.83155969e-01, 9.23298392e-03, 8.07610989e-01],\n",
              "       [3.09083029e-03, 2.02589296e-03, 9.94883239e-01],\n",
              "       [7.92361021e-01, 3.34074311e-02, 1.74231514e-01],\n",
              "       [3.79057638e-02, 9.50973034e-01, 1.11212563e-02],\n",
              "       [1.51493913e-02, 2.84566951e-04, 9.84566033e-01],\n",
              "       [9.99998748e-01, 2.76290293e-11, 1.24431540e-06],\n",
              "       [6.91030966e-03, 9.87542331e-01, 5.54741872e-03],\n",
              "       [9.70093533e-02, 5.63133135e-02, 8.46677303e-01],\n",
              "       [3.01543046e-02, 2.70205084e-02, 9.42825198e-01],\n",
              "       [1.00204591e-02, 4.41052206e-03, 9.85568941e-01],\n",
              "       [3.99053903e-07, 3.89042572e-04, 9.99610603e-01],\n",
              "       [9.87544358e-01, 9.35384087e-05, 1.23619819e-02],\n",
              "       [6.69662654e-02, 2.53410637e-01, 6.79623127e-01],\n",
              "       [1.32139642e-02, 5.15036583e-02, 9.35282409e-01],\n",
              "       [9.99967515e-01, 2.92034792e-06, 2.95117716e-05],\n",
              "       [7.02473640e-01, 2.11910948e-01, 8.56154934e-02],\n",
              "       [3.01175509e-02, 9.12142336e-01, 5.77400103e-02],\n",
              "       [7.20712662e-01, 1.56359896e-01, 1.22927517e-01],\n",
              "       [6.56564981e-02, 1.63909176e-03, 9.32704329e-01],\n",
              "       [6.99772477e-01, 2.99059153e-01, 1.16847944e-03],\n",
              "       [4.26653296e-01, 1.98504757e-02, 5.53496242e-01],\n",
              "       [4.39626724e-02, 9.28380787e-01, 2.76564974e-02],\n",
              "       [1.15939733e-02, 1.97274592e-02, 9.68678594e-01],\n",
              "       [9.74818110e-01, 1.56065524e-02, 9.57538188e-03],\n",
              "       [2.98182487e-01, 2.65882581e-01, 4.35934901e-01],\n",
              "       [4.03931476e-02, 7.83015217e-04, 9.58823860e-01],\n",
              "       [8.95321310e-01, 4.89820726e-02, 5.56965806e-02],\n",
              "       [8.68558764e-01, 9.75955650e-03, 1.21681526e-01],\n",
              "       [2.63847560e-02, 9.50347543e-01, 2.32676342e-02],\n",
              "       [4.92673248e-01, 3.57142925e-01, 1.50183678e-01],\n",
              "       [6.53534010e-02, 6.60693824e-01, 2.73952842e-01],\n",
              "       [1.30630642e-01, 3.28305155e-01, 5.41064203e-01],\n",
              "       [8.40461135e-01, 4.38040532e-02, 1.15734838e-01],\n",
              "       [3.67505968e-01, 9.22013000e-02, 5.40292680e-01],\n",
              "       [7.96601325e-02, 2.84475219e-02, 8.91892374e-01],\n",
              "       [1.68195320e-03, 5.62854037e-02, 9.42032456e-01],\n",
              "       [2.80721515e-01, 2.77315617e-01, 4.41962808e-01],\n",
              "       [1.64066613e-01, 3.60993692e-03, 8.32323432e-01],\n",
              "       [4.85082269e-02, 8.51736546e-01, 9.97552872e-02],\n",
              "       [9.54368957e-08, 3.59724727e-05, 9.99963820e-01],\n",
              "       [6.25479734e-03, 3.57846991e-04, 9.93387341e-01],\n",
              "       [3.28454614e-01, 3.89313279e-03, 6.67652190e-01],\n",
              "       [2.25300342e-02, 8.67308140e-01, 1.10161744e-01],\n",
              "       [6.11819625e-01, 3.83942485e-01, 4.23788978e-03],\n",
              "       [2.45691836e-02, 9.68153715e-01, 7.27699650e-03],\n",
              "       [9.60658193e-01, 9.13812182e-05, 3.92504148e-02],\n",
              "       [1.45597849e-03, 9.95781958e-01, 2.76205828e-03],\n",
              "       [9.99773264e-01, 6.34300420e-07, 2.26138451e-04],\n",
              "       [1.70883653e-03, 9.97798867e-04, 9.97293293e-01],\n",
              "       [5.50191589e-02, 9.14636612e-01, 3.03443018e-02],\n",
              "       [2.03652792e-02, 5.40006859e-03, 9.74234641e-01],\n",
              "       [9.41723645e-01, 1.31258098e-02, 4.51505259e-02],\n",
              "       [7.57052422e-01, 1.75691148e-05, 2.42929950e-01],\n",
              "       [7.75781423e-02, 7.63798118e-01, 1.58623800e-01],\n",
              "       [5.88115118e-02, 9.05633271e-01, 3.55551876e-02],\n",
              "       [1.48506127e-02, 9.80226994e-01, 4.92244586e-03],\n",
              "       [9.94087934e-01, 2.54763028e-04, 5.65714017e-03],\n",
              "       [1.16811025e-04, 9.99803066e-01, 8.02414797e-05],\n",
              "       [4.66755172e-03, 6.09704177e-04, 9.94722664e-01],\n",
              "       [2.09318358e-03, 9.97352481e-01, 5.54275932e-04],\n",
              "       [5.51931188e-03, 9.83540535e-01, 1.09401932e-02],\n",
              "       [5.55116594e-01, 2.23986842e-02, 4.22484845e-01],\n",
              "       [2.18975857e-01, 8.65021069e-03, 7.72373974e-01],\n",
              "       [4.92552202e-03, 3.39217251e-04, 9.94735241e-01],\n",
              "       [1.18039791e-02, 7.72318721e-01, 2.15877309e-01],\n",
              "       [1.17929376e-04, 9.99712825e-01, 1.69194798e-04],\n",
              "       [5.53970993e-01, 9.43720713e-02, 3.51656914e-01],\n",
              "       [9.66992080e-01, 6.64940526e-05, 3.29413936e-02],\n",
              "       [1.27390679e-02, 2.28980673e-04, 9.87031996e-01],\n",
              "       [8.26759994e-01, 1.65812229e-03, 1.71581820e-01],\n",
              "       [6.77512288e-01, 3.82553861e-02, 2.84232289e-01],\n",
              "       [8.69345851e-03, 2.01846444e-04, 9.91104722e-01],\n",
              "       [9.48867142e-01, 4.78064967e-03, 4.63521779e-02],\n",
              "       [9.89407420e-01, 9.68844142e-06, 1.05829211e-02],\n",
              "       [9.62431550e-01, 2.23643053e-03, 3.53319123e-02],\n",
              "       [5.13192415e-01, 2.99907923e-01, 1.86899781e-01],\n",
              "       [7.46743083e-02, 9.13469732e-01, 1.18559161e-02],\n",
              "       [7.61507591e-03, 4.47934908e-05, 9.92340088e-01],\n",
              "       [4.73355621e-01, 5.51163182e-02, 4.71528053e-01],\n",
              "       [1.64175600e-01, 1.02209300e-02, 8.25603366e-01],\n",
              "       [3.44484389e-01, 5.01993170e-04, 6.55013621e-01],\n",
              "       [7.30506361e-01, 2.45162502e-01, 2.43311115e-02],\n",
              "       [9.45594549e-01, 3.39801796e-03, 5.10073602e-02],\n",
              "       [6.78416761e-03, 9.74952579e-01, 1.82632748e-02],\n",
              "       [7.38417134e-02, 5.43767363e-02, 8.71781528e-01],\n",
              "       [4.57752403e-03, 9.93554115e-01, 1.86826126e-03],\n",
              "       [1.82282329e-01, 7.19182789e-01, 9.85348970e-02],\n",
              "       [1.10269197e-04, 9.95623767e-01, 4.26583271e-03],\n",
              "       [6.50141954e-01, 3.24855372e-02, 3.17372441e-01],\n",
              "       [1.46022616e-02, 9.75000918e-01, 1.03968354e-02],\n",
              "       [9.03489217e-06, 9.99976695e-01, 1.42318804e-05],\n",
              "       [7.47740874e-03, 9.91979778e-01, 5.42840222e-04],\n",
              "       [7.45642930e-02, 9.11217093e-01, 1.42187029e-02],\n",
              "       [7.04228282e-01, 9.99872610e-02, 1.95784271e-01],\n",
              "       [4.11155415e-05, 9.99952853e-01, 6.00052908e-06],\n",
              "       [4.12290543e-02, 9.55130696e-01, 3.64009826e-03],\n",
              "       [3.94032270e-01, 2.86179215e-01, 3.19788516e-01],\n",
              "       [1.53646737e-01, 8.25151801e-01, 2.12014746e-02],\n",
              "       [1.25617720e-04, 9.02542938e-03, 9.90848780e-01],\n",
              "       [4.56369926e-05, 9.99814034e-01, 1.40332326e-04],\n",
              "       [2.21772268e-02, 9.77456629e-01, 3.66060820e-04],\n",
              "       [5.82221925e-01, 2.42093038e-02, 3.93568814e-01],\n",
              "       [1.22311607e-01, 3.63998711e-02, 8.41288507e-01],\n",
              "       [7.45122313e-01, 1.42439073e-02, 2.40633786e-01],\n",
              "       [7.11247623e-01, 1.32498190e-01, 1.56254321e-01],\n",
              "       [9.28351104e-01, 5.68095827e-03, 6.59679472e-02],\n",
              "       [9.30054682e-07, 9.99520361e-01, 4.78625851e-04],\n",
              "       [6.94347858e-01, 1.69838350e-02, 2.88668305e-01],\n",
              "       [5.43866481e-04, 9.99163330e-01, 2.92731740e-04],\n",
              "       [2.14084789e-01, 5.27089655e-01, 2.58825421e-01],\n",
              "       [2.11511346e-04, 9.99505460e-01, 2.82959256e-04],\n",
              "       [2.78484583e-01, 5.36646485e-01, 1.84868827e-01],\n",
              "       [3.83050859e-01, 2.18749978e-03, 6.14761651e-01],\n",
              "       [2.65656374e-02, 1.28106371e-01, 8.45327973e-01],\n",
              "       [5.78494251e-01, 1.23379499e-01, 2.98126131e-01],\n",
              "       [1.37357798e-03, 1.76253125e-05, 9.98608649e-01],\n",
              "       [9.93456021e-02, 5.72116315e-01, 3.28538001e-01],\n",
              "       [1.06607005e-01, 1.57492504e-01, 7.35900402e-01],\n",
              "       [8.55181575e-01, 1.35351554e-01, 9.46689490e-03],\n",
              "       [1.86631568e-02, 8.74989748e-01, 1.06347077e-01],\n",
              "       [3.51266712e-01, 6.08645558e-01, 4.00877036e-02],\n",
              "       [1.40834693e-03, 2.29620258e-04, 9.98361945e-01],\n",
              "       [1.24788017e-03, 9.97366786e-01, 1.38519320e-03],\n",
              "       [9.80686188e-01, 2.03834544e-03, 1.72754079e-02],\n",
              "       [7.03414343e-03, 9.88064468e-01, 4.90149995e-03],\n",
              "       [4.71020909e-03, 9.93510067e-01, 1.77978631e-03],\n",
              "       [2.34346269e-04, 9.99383628e-01, 3.82029859e-04],\n",
              "       [6.65851012e-02, 9.21740055e-01, 1.16748437e-02],\n",
              "       [6.08979426e-02, 8.44114602e-01, 9.49874893e-02],\n",
              "       [8.24815258e-02, 6.55625343e-01, 2.61893213e-01],\n",
              "       [1.70609921e-01, 8.10206354e-01, 1.91837884e-02],\n",
              "       [4.66128625e-02, 7.32532330e-03, 9.46061730e-01],\n",
              "       [3.71564627e-02, 1.57102376e-01, 8.05741191e-01],\n",
              "       [9.39158499e-01, 4.61118370e-02, 1.47296283e-02],\n",
              "       [7.13170331e-04, 9.98384535e-01, 9.02230153e-04],\n",
              "       [8.95237863e-01, 2.72053783e-03, 1.02041580e-01],\n",
              "       [6.17425628e-02, 7.62506902e-01, 1.75750598e-01],\n",
              "       [2.95280099e-01, 3.83259058e-02, 6.66394055e-01],\n",
              "       [1.41011292e-15, 9.99999940e-01, 1.59068969e-09],\n",
              "       [5.43196984e-02, 2.30521098e-01, 7.15159118e-01],\n",
              "       [3.47516537e-02, 2.91003124e-03, 9.62338269e-01],\n",
              "       [8.91713858e-01, 1.00326464e-02, 9.82534140e-02],\n",
              "       [3.83174509e-01, 9.28087085e-02, 5.24016738e-01],\n",
              "       [8.12791765e-01, 1.76787898e-01, 1.04202516e-02],\n",
              "       [3.48097441e-04, 9.99442041e-01, 2.09814229e-04],\n",
              "       [9.22007740e-01, 1.08960550e-03, 7.69027248e-02]], dtype=float32)"
            ]
          },
          "metadata": {},
          "execution_count": 29
        }
      ]
    },
    {
      "cell_type": "code",
      "source": [
        "import numpy as np\n",
        "y_pred = np.argmax(y_pred, axis=1)"
      ],
      "metadata": {
        "id": "Xw8eBGHRwBKG"
      },
      "execution_count": null,
      "outputs": []
    },
    {
      "cell_type": "code",
      "source": [
        "y_pred"
      ],
      "metadata": {
        "colab": {
          "base_uri": "https://localhost:8080/"
        },
        "id": "kJHtQOvGwDXh",
        "outputId": "ff99e562-5953-460d-f734-8672ad799550"
      },
      "execution_count": null,
      "outputs": [
        {
          "output_type": "execute_result",
          "data": {
            "text/plain": [
              "array([0, 2, 0, 2, 1, 1, 2, 2, 0, 0, 1, 1, 0, 1, 2, 0, 2, 1, 2, 1, 1, 1,\n",
              "       1, 2, 2, 2, 1, 0, 0, 1, 1, 2, 1, 1, 2, 2, 2, 2, 1, 1, 0, 1, 0, 2,\n",
              "       0, 1, 1, 0, 2, 1, 2, 1, 0, 1, 1, 1, 0, 0, 0, 1, 1, 2, 2, 0, 0, 2,\n",
              "       1, 2, 2, 1, 1, 1, 0, 2, 0, 2, 2, 2, 2, 0, 2, 2, 0, 1, 2, 0, 1, 2,\n",
              "       2, 2, 2, 0, 2, 2, 0, 0, 1, 0, 2, 0, 2, 1, 2, 0, 2, 2, 0, 0, 1, 0,\n",
              "       1, 2, 0, 2, 2, 2, 2, 2, 1, 2, 2, 2, 1, 0, 1, 0, 1, 0, 2, 1, 2, 0,\n",
              "       0, 1, 1, 1, 0, 1, 2, 1, 1, 0, 2, 2, 1, 1, 0, 0, 2, 0, 0, 2, 0, 0,\n",
              "       0, 0, 1, 2, 0, 2, 2, 0, 0, 1, 2, 1, 1, 1, 0, 1, 1, 1, 1, 0, 1, 1,\n",
              "       0, 1, 2, 1, 1, 0, 2, 0, 0, 0, 1, 0, 1, 1, 1, 1, 2, 2, 0, 2, 1, 2,\n",
              "       0, 1, 1, 2, 1, 0, 1, 1, 1, 1, 1, 1, 1, 2, 2, 0, 1, 0, 1, 2, 1, 2,\n",
              "       2, 0, 2, 0, 1, 0])"
            ]
          },
          "metadata": {},
          "execution_count": 31
        }
      ]
    },
    {
      "cell_type": "code",
      "source": [
        "from tensorflow.keras.models import load_model\n",
        "from tensorflow.keras.preprocessing import image"
      ],
      "metadata": {
        "id": "5hGXVveAwF0U"
      },
      "execution_count": null,
      "outputs": []
    },
    {
      "cell_type": "code",
      "source": [
        "model=load_model('model_resnet50.h5')"
      ],
      "metadata": {
        "id": "jsHMRmN2wI0Y"
      },
      "execution_count": null,
      "outputs": []
    },
    {
      "cell_type": "code",
      "source": [
        "#TESTING BY TAKING A IMAGE OF ZOMATO BOI [it should give 2 value in result if true]\n",
        "img=image.load_img('/content/drive/MyDrive/dataset/train/zomato/image11.jpeg',target_size=(224,224))"
      ],
      "metadata": {
        "id": "rt3OPLQ9wM6Z"
      },
      "execution_count": null,
      "outputs": []
    },
    {
      "cell_type": "code",
      "source": [
        "#saving image in array\n",
        "x=image.img_to_array(img)\n",
        "x"
      ],
      "metadata": {
        "colab": {
          "base_uri": "https://localhost:8080/"
        },
        "id": "2nXKbqpZwQiN",
        "outputId": "846a1f46-786a-43d9-9dda-2fa152cae94c"
      },
      "execution_count": null,
      "outputs": [
        {
          "output_type": "execute_result",
          "data": {
            "text/plain": [
              "array([[[255., 255., 255.],\n",
              "        [255., 255., 255.],\n",
              "        [255., 255., 255.],\n",
              "        ...,\n",
              "        [255., 255., 255.],\n",
              "        [255., 255., 255.],\n",
              "        [255., 255., 255.]],\n",
              "\n",
              "       [[255., 255., 255.],\n",
              "        [255., 255., 255.],\n",
              "        [255., 255., 255.],\n",
              "        ...,\n",
              "        [255., 255., 255.],\n",
              "        [255., 255., 255.],\n",
              "        [255., 255., 255.]],\n",
              "\n",
              "       [[255., 255., 255.],\n",
              "        [255., 255., 255.],\n",
              "        [255., 255., 255.],\n",
              "        ...,\n",
              "        [255., 255., 255.],\n",
              "        [255., 255., 255.],\n",
              "        [255., 255., 255.]],\n",
              "\n",
              "       ...,\n",
              "\n",
              "       [[255., 255., 255.],\n",
              "        [255., 255., 255.],\n",
              "        [255., 255., 255.],\n",
              "        ...,\n",
              "        [255., 255., 255.],\n",
              "        [255., 255., 255.],\n",
              "        [255., 255., 255.]],\n",
              "\n",
              "       [[255., 255., 255.],\n",
              "        [255., 255., 255.],\n",
              "        [255., 255., 255.],\n",
              "        ...,\n",
              "        [255., 255., 255.],\n",
              "        [255., 255., 255.],\n",
              "        [255., 255., 255.]],\n",
              "\n",
              "       [[255., 255., 255.],\n",
              "        [255., 255., 255.],\n",
              "        [255., 255., 255.],\n",
              "        ...,\n",
              "        [255., 255., 255.],\n",
              "        [255., 255., 255.],\n",
              "        [255., 255., 255.]]], dtype=float32)"
            ]
          },
          "metadata": {},
          "execution_count": 44
        }
      ]
    },
    {
      "cell_type": "code",
      "source": [
        "x.shape"
      ],
      "metadata": {
        "colab": {
          "base_uri": "https://localhost:8080/"
        },
        "id": "VmrqNmyqwSFL",
        "outputId": "065a56a2-beef-465e-c3ff-852db1fcb790"
      },
      "execution_count": null,
      "outputs": [
        {
          "output_type": "execute_result",
          "data": {
            "text/plain": [
              "(224, 224, 3)"
            ]
          },
          "metadata": {},
          "execution_count": 45
        }
      ]
    },
    {
      "cell_type": "code",
      "source": [
        "x=x/255"
      ],
      "metadata": {
        "id": "JCU8jPn2wT1U"
      },
      "execution_count": null,
      "outputs": []
    },
    {
      "cell_type": "code",
      "source": [
        "x=np.expand_dims(x,axis=0)\n",
        "img_data=preprocess_input(x)\n",
        "img_data.shape"
      ],
      "metadata": {
        "colab": {
          "base_uri": "https://localhost:8080/"
        },
        "id": "P23fw2uowVn1",
        "outputId": "9c5ae329-d25d-47bc-a48f-84783530ddc2"
      },
      "execution_count": null,
      "outputs": [
        {
          "output_type": "execute_result",
          "data": {
            "text/plain": [
              "(1, 224, 224, 3)"
            ]
          },
          "metadata": {},
          "execution_count": 47
        }
      ]
    },
    {
      "cell_type": "code",
      "source": [
        "model.predict(img_data)"
      ],
      "metadata": {
        "colab": {
          "base_uri": "https://localhost:8080/"
        },
        "id": "v-iRV0abwXkg",
        "outputId": "daa52e47-e711-467c-ff88-06c707efdec1"
      },
      "execution_count": null,
      "outputs": [
        {
          "output_type": "stream",
          "name": "stdout",
          "text": [
            "1/1 [==============================] - 0s 222ms/step\n"
          ]
        },
        {
          "output_type": "execute_result",
          "data": {
            "text/plain": [
              "array([[1.7131926e-01, 1.8221331e-10, 8.2868069e-01]], dtype=float32)"
            ]
          },
          "metadata": {},
          "execution_count": 48
        }
      ]
    },
    {
      "cell_type": "code",
      "source": [
        "\n",
        "a=np.argmax(model.predict(img_data), axis=1)"
      ],
      "metadata": {
        "colab": {
          "base_uri": "https://localhost:8080/"
        },
        "id": "B3x4bxA-wZh3",
        "outputId": "562d3492-3005-4dc3-9027-c58061bd0973"
      },
      "execution_count": null,
      "outputs": [
        {
          "output_type": "stream",
          "name": "stdout",
          "text": [
            "1/1 [==============================] - 0s 207ms/step\n"
          ]
        }
      ]
    },
    {
      "cell_type": "code",
      "source": [
        "a\n",
        "#we give zomato pic and gets its label 2 which is correct"
      ],
      "metadata": {
        "colab": {
          "base_uri": "https://localhost:8080/"
        },
        "id": "6FNZ43jnwbQt",
        "outputId": "4c7dd9a0-2df4-45b2-e450-a0e1e766c3bd"
      },
      "execution_count": null,
      "outputs": [
        {
          "output_type": "execute_result",
          "data": {
            "text/plain": [
              "array([2])"
            ]
          },
          "metadata": {},
          "execution_count": 50
        }
      ]
    }
  ]
}